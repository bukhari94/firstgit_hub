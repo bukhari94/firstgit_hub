{
 "cells": [
  {
   "cell_type": "markdown",
   "id": "2b835876",
   "metadata": {},
   "source": [
    "# indexing"
   ]
  },
  {
   "cell_type": "code",
   "execution_count": 1,
   "id": "4b7a7438",
   "metadata": {},
   "outputs": [
    {
     "data": {
      "text/plain": [
       "'samosa and pakora'"
      ]
     },
     "execution_count": 1,
     "metadata": {},
     "output_type": "execute_result"
    }
   ],
   "source": [
    "a= \"samosa and pakora\"\n",
    "a"
   ]
  },
  {
   "cell_type": "code",
   "execution_count": 2,
   "id": "c8f03d7f",
   "metadata": {},
   "outputs": [
    {
     "data": {
      "text/plain": [
       "'a'"
      ]
     },
     "execution_count": 2,
     "metadata": {},
     "output_type": "execute_result"
    }
   ],
   "source": [
    "a[1]"
   ]
  },
  {
   "cell_type": "code",
   "execution_count": 3,
   "id": "92e1ba76",
   "metadata": {},
   "outputs": [
    {
     "data": {
      "text/plain": [
       "'s'"
      ]
     },
     "execution_count": 3,
     "metadata": {},
     "output_type": "execute_result"
    }
   ],
   "source": [
    "a[0]"
   ]
  },
  {
   "cell_type": "code",
   "execution_count": 4,
   "id": "c13cef60",
   "metadata": {},
   "outputs": [
    {
     "data": {
      "text/plain": [
       "'a'"
      ]
     },
     "execution_count": 4,
     "metadata": {},
     "output_type": "execute_result"
    }
   ],
   "source": [
    "a[-1]"
   ]
  },
  {
   "cell_type": "code",
   "execution_count": 5,
   "id": "04eb3c41",
   "metadata": {},
   "outputs": [
    {
     "data": {
      "text/plain": [
       "'r'"
      ]
     },
     "execution_count": 5,
     "metadata": {},
     "output_type": "execute_result"
    }
   ],
   "source": [
    "a[-2]"
   ]
  },
  {
   "cell_type": "code",
   "execution_count": 6,
   "id": "37ba4e8a",
   "metadata": {},
   "outputs": [
    {
     "data": {
      "text/plain": [
       "17"
      ]
     },
     "execution_count": 6,
     "metadata": {},
     "output_type": "execute_result"
    }
   ],
   "source": [
    "len(a)"
   ]
  },
  {
   "cell_type": "code",
   "execution_count": 7,
   "id": "f526fd99",
   "metadata": {},
   "outputs": [
    {
     "data": {
      "text/plain": [
       "'samosa an'"
      ]
     },
     "execution_count": 7,
     "metadata": {},
     "output_type": "execute_result"
    }
   ],
   "source": [
    "a[0:9]"
   ]
  },
  {
   "cell_type": "code",
   "execution_count": 8,
   "id": "19ce13a5",
   "metadata": {},
   "outputs": [],
   "source": [
    "food=\"biryani\""
   ]
  },
  {
   "cell_type": "code",
   "execution_count": 9,
   "id": "b2d0df83",
   "metadata": {},
   "outputs": [
    {
     "data": {
      "text/plain": [
       "7"
      ]
     },
     "execution_count": 9,
     "metadata": {},
     "output_type": "execute_result"
    }
   ],
   "source": [
    "len(food)"
   ]
  },
  {
   "cell_type": "code",
   "execution_count": 10,
   "id": "2063a467",
   "metadata": {},
   "outputs": [
    {
     "data": {
      "text/plain": [
       "'Biryani'"
      ]
     },
     "execution_count": 10,
     "metadata": {},
     "output_type": "execute_result"
    }
   ],
   "source": [
    "food.capitalize()"
   ]
  },
  {
   "cell_type": "code",
   "execution_count": 11,
   "id": "ac309ac6",
   "metadata": {},
   "outputs": [
    {
     "data": {
      "text/plain": [
       "'BIRYANI'"
      ]
     },
     "execution_count": 11,
     "metadata": {},
     "output_type": "execute_result"
    }
   ],
   "source": [
    "food.upper()"
   ]
  },
  {
   "cell_type": "code",
   "execution_count": 13,
   "id": "46aae9f7",
   "metadata": {},
   "outputs": [
    {
     "data": {
      "text/plain": [
       "'siryani'"
      ]
     },
     "execution_count": 13,
     "metadata": {},
     "output_type": "execute_result"
    }
   ],
   "source": [
    "food.replace(\"b\",\"s\")"
   ]
  },
  {
   "cell_type": "code",
   "execution_count": 14,
   "id": "f7facb26",
   "metadata": {},
   "outputs": [
    {
     "data": {
      "text/plain": [
       "'bsryans'"
      ]
     },
     "execution_count": 14,
     "metadata": {},
     "output_type": "execute_result"
    }
   ],
   "source": [
    "food.replace(\"i\",\"s\")"
   ]
  },
  {
   "cell_type": "code",
   "execution_count": 15,
   "id": "15cdb591",
   "metadata": {},
   "outputs": [
    {
     "data": {
      "text/plain": [
       "'hello world this is jupiter note book and year 2022'"
      ]
     },
     "execution_count": 15,
     "metadata": {},
     "output_type": "execute_result"
    }
   ],
   "source": [
    "name=\"hello world this is jupiter note book and year 2022\"\n",
    "name"
   ]
  },
  {
   "cell_type": "code",
   "execution_count": 16,
   "id": "f9e4489c",
   "metadata": {},
   "outputs": [
    {
     "data": {
      "text/plain": [
       "3"
      ]
     },
     "execution_count": 16,
     "metadata": {},
     "output_type": "execute_result"
    }
   ],
   "source": [
    "name.count(\"2\")"
   ]
  },
  {
   "cell_type": "code",
   "execution_count": 17,
   "id": "97298965",
   "metadata": {},
   "outputs": [
    {
     "data": {
      "text/plain": [
       "2"
      ]
     },
     "execution_count": 17,
     "metadata": {},
     "output_type": "execute_result"
    }
   ],
   "source": [
    "name.count(\"s\")"
   ]
  },
  {
   "cell_type": "code",
   "execution_count": 18,
   "id": "e06c4b09",
   "metadata": {},
   "outputs": [
    {
     "data": {
      "text/plain": [
       "0"
      ]
     },
     "execution_count": 18,
     "metadata": {},
     "output_type": "execute_result"
    }
   ],
   "source": [
    "name.count(\"z\")"
   ]
  },
  {
   "cell_type": "code",
   "execution_count": 20,
   "id": "50eba94f",
   "metadata": {},
   "outputs": [
    {
     "data": {
      "text/plain": [
       "3"
      ]
     },
     "execution_count": 20,
     "metadata": {},
     "output_type": "execute_result"
    }
   ],
   "source": [
    "name.count(\"2\")"
   ]
  },
  {
   "cell_type": "markdown",
   "id": "0258fa36",
   "metadata": {},
   "source": [
    "name.find(\"d\")"
   ]
  },
  {
   "cell_type": "code",
   "execution_count": 21,
   "id": "c2f92b06",
   "metadata": {},
   "outputs": [
    {
     "data": {
      "text/plain": [
       "28"
      ]
     },
     "execution_count": 21,
     "metadata": {},
     "output_type": "execute_result"
    }
   ],
   "source": [
    "name.find(\"n\")"
   ]
  },
  {
   "cell_type": "code",
   "execution_count": 22,
   "id": "bfd4849d",
   "metadata": {},
   "outputs": [
    {
     "data": {
      "text/plain": [
       "49"
      ]
     },
     "execution_count": 22,
     "metadata": {},
     "output_type": "execute_result"
    }
   ],
   "source": [
    "name.find(\"22\")"
   ]
  },
  {
   "cell_type": "code",
   "execution_count": 24,
   "id": "4b1fa37a",
   "metadata": {},
   "outputs": [],
   "source": [
    "food1=\"i love,you,and,u,m,o,p\""
   ]
  },
  {
   "cell_type": "code",
   "execution_count": 26,
   "id": "56bd9470",
   "metadata": {},
   "outputs": [
    {
     "data": {
      "text/plain": [
       "['i love', 'you', 'and', 'u', 'm', 'o', 'p']"
      ]
     },
     "execution_count": 26,
     "metadata": {},
     "output_type": "execute_result"
    }
   ],
   "source": [
    "food1.split(\",\")"
   ]
  },
  {
   "cell_type": "markdown",
   "id": "11774f06",
   "metadata": {},
   "source": [
    "# data structure "
   ]
  },
  {
   "cell_type": "markdown",
   "id": "56cd5aa5",
   "metadata": {},
   "source": [
    "# tuple"
   ]
  },
  {
   "cell_type": "code",
   "execution_count": 39,
   "id": "84039bed",
   "metadata": {},
   "outputs": [
    {
     "data": {
      "text/plain": [
       "(1, 'a', 'hello world', True, 9.0)"
      ]
     },
     "execution_count": 39,
     "metadata": {},
     "output_type": "execute_result"
    }
   ],
   "source": [
    "tup=(1,\"a\",\"hello world\",True,9.0)\n",
    "tup"
   ]
  },
  {
   "cell_type": "code",
   "execution_count": 40,
   "id": "f1199877",
   "metadata": {},
   "outputs": [
    {
     "data": {
      "text/plain": [
       "tuple"
      ]
     },
     "execution_count": 40,
     "metadata": {},
     "output_type": "execute_result"
    }
   ],
   "source": [
    "type(tup)"
   ]
  },
  {
   "cell_type": "markdown",
   "id": "7524b3ee",
   "metadata": {},
   "source": [
    "# indexing in tuple"
   ]
  },
  {
   "cell_type": "code",
   "execution_count": 41,
   "id": "9ecda11f",
   "metadata": {},
   "outputs": [
    {
     "data": {
      "text/plain": [
       "1"
      ]
     },
     "execution_count": 41,
     "metadata": {},
     "output_type": "execute_result"
    }
   ],
   "source": [
    "tup[0]"
   ]
  },
  {
   "cell_type": "code",
   "execution_count": 42,
   "id": "435caaca",
   "metadata": {},
   "outputs": [
    {
     "data": {
      "text/plain": [
       "'a'"
      ]
     },
     "execution_count": 42,
     "metadata": {},
     "output_type": "execute_result"
    }
   ],
   "source": [
    "tup[1]"
   ]
  },
  {
   "cell_type": "code",
   "execution_count": 43,
   "id": "868042f8",
   "metadata": {},
   "outputs": [
    {
     "data": {
      "text/plain": [
       "'hello world'"
      ]
     },
     "execution_count": 43,
     "metadata": {},
     "output_type": "execute_result"
    }
   ],
   "source": [
    "tup[2]"
   ]
  },
  {
   "cell_type": "code",
   "execution_count": 44,
   "id": "e6ae1e56",
   "metadata": {},
   "outputs": [
    {
     "data": {
      "text/plain": [
       "True"
      ]
     },
     "execution_count": 44,
     "metadata": {},
     "output_type": "execute_result"
    }
   ],
   "source": [
    "tup[3]"
   ]
  },
  {
   "cell_type": "code",
   "execution_count": 45,
   "id": "cfbcad79",
   "metadata": {},
   "outputs": [
    {
     "data": {
      "text/plain": [
       "(1, 'a', 'hello world')"
      ]
     },
     "execution_count": 45,
     "metadata": {},
     "output_type": "execute_result"
    }
   ],
   "source": [
    "tup[0:3]"
   ]
  },
  {
   "cell_type": "code",
   "execution_count": 46,
   "id": "4783fd8c",
   "metadata": {},
   "outputs": [
    {
     "data": {
      "text/plain": [
       "5"
      ]
     },
     "execution_count": 46,
     "metadata": {},
     "output_type": "execute_result"
    }
   ],
   "source": [
    "len(tup)"
   ]
  },
  {
   "cell_type": "code",
   "execution_count": 52,
   "id": "ed10d113",
   "metadata": {},
   "outputs": [
    {
     "data": {
      "text/plain": [
       "(2, 'love', 'you', False, 0.09)"
      ]
     },
     "execution_count": 52,
     "metadata": {},
     "output_type": "execute_result"
    }
   ],
   "source": [
    "tup1=(2,\"love\",\"you\",False,0.09)\n",
    "tup1"
   ]
  },
  {
   "cell_type": "code",
   "execution_count": 53,
   "id": "6ecd04a9",
   "metadata": {},
   "outputs": [
    {
     "data": {
      "text/plain": [
       "(1, 'a', 'hello world', True, 9.0, 2, 'love', 'you', False, 0.09)"
      ]
     },
     "execution_count": 53,
     "metadata": {},
     "output_type": "execute_result"
    }
   ],
   "source": [
    "# concat operation\n",
    "tup2=tup+tup1\n",
    "tup2"
   ]
  },
  {
   "cell_type": "code",
   "execution_count": 54,
   "id": "e0d7b983",
   "metadata": {},
   "outputs": [
    {
     "data": {
      "text/plain": [
       "(1, 'a', 'hello world', True, 9.0, 1, 'a', 'hello world', True, 9.0)"
      ]
     },
     "execution_count": 54,
     "metadata": {},
     "output_type": "execute_result"
    }
   ],
   "source": [
    "tup*2"
   ]
  },
  {
   "cell_type": "code",
   "execution_count": 56,
   "id": "349326b9",
   "metadata": {},
   "outputs": [
    {
     "data": {
      "text/plain": [
       "(1,\n",
       " 'a',\n",
       " 'hello world',\n",
       " True,\n",
       " 9.0,\n",
       " 1,\n",
       " 'a',\n",
       " 'hello world',\n",
       " True,\n",
       " 9.0,\n",
       " 1,\n",
       " 'a',\n",
       " 'hello world',\n",
       " True,\n",
       " 9.0)"
      ]
     },
     "execution_count": 56,
     "metadata": {},
     "output_type": "execute_result"
    }
   ],
   "source": [
    "tup*2 +tup"
   ]
  },
  {
   "cell_type": "code",
   "execution_count": 57,
   "id": "9352028a",
   "metadata": {},
   "outputs": [
    {
     "data": {
      "text/plain": [
       "(11, 22, 33, 44, 55, 66, 77, 88, 99)"
      ]
     },
     "execution_count": 57,
     "metadata": {},
     "output_type": "execute_result"
    }
   ],
   "source": [
    "tup2=(11,22,33,44,55,66,77,88,99)\n",
    "tup2"
   ]
  },
  {
   "cell_type": "code",
   "execution_count": 58,
   "id": "c499bc5e",
   "metadata": {},
   "outputs": [
    {
     "data": {
      "text/plain": [
       "11"
      ]
     },
     "execution_count": 58,
     "metadata": {},
     "output_type": "execute_result"
    }
   ],
   "source": [
    "min(tup2)"
   ]
  },
  {
   "cell_type": "code",
   "execution_count": 61,
   "id": "b6db289c",
   "metadata": {},
   "outputs": [
    {
     "data": {
      "text/plain": [
       "99"
      ]
     },
     "execution_count": 61,
     "metadata": {},
     "output_type": "execute_result"
    }
   ],
   "source": [
    "max(tup2)"
   ]
  },
  {
   "cell_type": "markdown",
   "id": "b31ade2c",
   "metadata": {},
   "source": [
    "# ... List"
   ]
  },
  {
   "cell_type": "code",
   "execution_count": 63,
   "id": "1bfca70b",
   "metadata": {},
   "outputs": [
    {
     "data": {
      "text/plain": [
       "[1, 'hello', True]"
      ]
     },
     "execution_count": 63,
     "metadata": {},
     "output_type": "execute_result"
    }
   ],
   "source": [
    "list1=[1,\"hello\",True]\n",
    "list1"
   ]
  },
  {
   "cell_type": "code",
   "execution_count": 65,
   "id": "827c477b",
   "metadata": {},
   "outputs": [
    {
     "data": {
      "text/plain": [
       "3"
      ]
     },
     "execution_count": 65,
     "metadata": {},
     "output_type": "execute_result"
    }
   ],
   "source": [
    "len(list1)"
   ]
  },
  {
   "cell_type": "code",
   "execution_count": 66,
   "id": "87c7583a",
   "metadata": {},
   "outputs": [
    {
     "data": {
      "text/plain": [
       "list"
      ]
     },
     "execution_count": 66,
     "metadata": {},
     "output_type": "execute_result"
    }
   ],
   "source": [
    "type(list1)"
   ]
  },
  {
   "cell_type": "code",
   "execution_count": 68,
   "id": "a640e60d",
   "metadata": {},
   "outputs": [
    {
     "data": {
      "text/plain": [
       "'hello'"
      ]
     },
     "execution_count": 68,
     "metadata": {},
     "output_type": "execute_result"
    }
   ],
   "source": [
    "list1[1]"
   ]
  },
  {
   "cell_type": "code",
   "execution_count": 70,
   "id": "3fcffe99",
   "metadata": {},
   "outputs": [
    {
     "data": {
      "text/plain": [
       "[1, 'python', 9.0, False, 'Ammar']"
      ]
     },
     "execution_count": 70,
     "metadata": {},
     "output_type": "execute_result"
    }
   ],
   "source": [
    "list2=[1,\"python\",9.0,False,\"Ammar\"]\n",
    "list2"
   ]
  },
  {
   "cell_type": "code",
   "execution_count": 71,
   "id": "f0ca994b",
   "metadata": {},
   "outputs": [
    {
     "data": {
      "text/plain": [
       "[1, 'hello', True, 1, 'python', 9.0, False, 'Ammar']"
      ]
     },
     "execution_count": 71,
     "metadata": {},
     "output_type": "execute_result"
    }
   ],
   "source": [
    "list3=list1+list2\n",
    "list3"
   ]
  },
  {
   "cell_type": "code",
   "execution_count": 72,
   "id": "16f1b35f",
   "metadata": {},
   "outputs": [
    {
     "data": {
      "text/plain": [
       "[True, 'hello', 1]"
      ]
     },
     "execution_count": 72,
     "metadata": {},
     "output_type": "execute_result"
    }
   ],
   "source": [
    "list1.reverse()\n",
    "list1"
   ]
  },
  {
   "cell_type": "code",
   "execution_count": 73,
   "id": "8b94d6e5",
   "metadata": {},
   "outputs": [
    {
     "data": {
      "text/plain": [
       "[True, 'hello', 1, 'new element']"
      ]
     },
     "execution_count": 73,
     "metadata": {},
     "output_type": "execute_result"
    }
   ],
   "source": [
    "list1.append(\"new element\")\n",
    "list1"
   ]
  },
  {
   "cell_type": "code",
   "execution_count": 83,
   "id": "ff5fd5b8",
   "metadata": {},
   "outputs": [
    {
     "data": {
      "text/plain": [
       "0"
      ]
     },
     "execution_count": 83,
     "metadata": {},
     "output_type": "execute_result"
    }
   ],
   "source": [
    "list3.count(\"o\")"
   ]
  },
  {
   "cell_type": "code",
   "execution_count": 85,
   "id": "6db6cce5",
   "metadata": {},
   "outputs": [
    {
     "data": {
      "text/plain": [
       "0"
      ]
     },
     "execution_count": 85,
     "metadata": {},
     "output_type": "execute_result"
    }
   ],
   "source": [
    "list2.count(\"p\")"
   ]
  },
  {
   "cell_type": "code",
   "execution_count": 86,
   "id": "1f882cc6",
   "metadata": {},
   "outputs": [
    {
     "data": {
      "text/plain": [
       "[11, 22, 33, 12, 556, 234, 623, 121, 7878, 12312]"
      ]
     },
     "execution_count": 86,
     "metadata": {},
     "output_type": "execute_result"
    }
   ],
   "source": [
    "#sorting in python\n",
    "list4=[11,22,33,12,556,234,623,121,7878,12312]\n",
    "list4"
   ]
  },
  {
   "cell_type": "code",
   "execution_count": 87,
   "id": "d8dda094",
   "metadata": {},
   "outputs": [],
   "source": [
    "list4.sort()"
   ]
  },
  {
   "cell_type": "code",
   "execution_count": 88,
   "id": "2551b317",
   "metadata": {},
   "outputs": [
    {
     "data": {
      "text/plain": [
       "[11, 12, 22, 33, 121, 234, 556, 623, 7878, 12312]"
      ]
     },
     "execution_count": 88,
     "metadata": {},
     "output_type": "execute_result"
    }
   ],
   "source": [
    "list4"
   ]
  },
  {
   "cell_type": "markdown",
   "id": "6e7778f6",
   "metadata": {},
   "source": [
    "# dictionaries"
   ]
  },
  {
   "cell_type": "code",
   "execution_count": 93,
   "id": "b00bcc80",
   "metadata": {},
   "outputs": [
    {
     "data": {
      "text/plain": [
       "{'aloo': 2, 'kacahalo': 3, 'bindi': 9, 'daniya': 8}"
      ]
     },
     "execution_count": 93,
     "metadata": {},
     "output_type": "execute_result"
    }
   ],
   "source": [
    "food={\"aloo\":2,\"kacahalo\":3,\"bindi\":9,\"daniya\":8}\n",
    "food"
   ]
  },
  {
   "cell_type": "code",
   "execution_count": 90,
   "id": "5a27ba0a",
   "metadata": {},
   "outputs": [
    {
     "data": {
      "text/plain": [
       "dict"
      ]
     },
     "execution_count": 90,
     "metadata": {},
     "output_type": "execute_result"
    }
   ],
   "source": [
    "type(food)"
   ]
  },
  {
   "cell_type": "code",
   "execution_count": 94,
   "id": "cdf24ef2",
   "metadata": {},
   "outputs": [
    {
     "data": {
      "text/plain": [
       "dict_keys(['aloo', 'kacahalo', 'bindi', 'daniya'])"
      ]
     },
     "execution_count": 94,
     "metadata": {},
     "output_type": "execute_result"
    }
   ],
   "source": [
    "food.keys()"
   ]
  },
  {
   "cell_type": "code",
   "execution_count": 95,
   "id": "d6125c0b",
   "metadata": {},
   "outputs": [
    {
     "data": {
      "text/plain": [
       "dict_values([2, 3, 9, 8])"
      ]
     },
     "execution_count": 95,
     "metadata": {},
     "output_type": "execute_result"
    }
   ],
   "source": [
    "food.values()"
   ]
  },
  {
   "cell_type": "code",
   "execution_count": 98,
   "id": "27953b4d",
   "metadata": {},
   "outputs": [
    {
     "data": {
      "text/plain": [
       "{'aloo': 2, 'kacahalo': 3, 'bindi': 9, 'daniya': 8, 'kadu': 7}"
      ]
     },
     "execution_count": 98,
     "metadata": {},
     "output_type": "execute_result"
    }
   ],
   "source": [
    "#update or add new \n",
    "food['kadu']=7\n",
    "food"
   ]
  },
  {
   "cell_type": "code",
   "execution_count": 106,
   "id": "4ca735d2",
   "metadata": {},
   "outputs": [
    {
     "data": {
      "text/plain": [
       "{'aloo': 2, 'kacahalo': 3, 'bindi': 9, 'daniya': 8, 'kadu': 7, 'tore': 6}"
      ]
     },
     "execution_count": 106,
     "metadata": {},
     "output_type": "execute_result"
    }
   ],
   "source": [
    "#update or add new \n",
    "food.update({\"tore\":6})\n",
    "food"
   ]
  },
  {
   "cell_type": "code",
   "execution_count": 107,
   "id": "65cba08f",
   "metadata": {},
   "outputs": [
    {
     "data": {
      "text/plain": [
       "{'aloo': 2, 'kacahalo': 3, 'bindi': 9, 'daniya': 8, 'kadu': 7, 'tore': 5}"
      ]
     },
     "execution_count": 107,
     "metadata": {},
     "output_type": "execute_result"
    }
   ],
   "source": [
    "#update only value\n",
    "food.update({\"tore\":5})\n",
    "food"
   ]
  },
  {
   "cell_type": "code",
   "execution_count": 108,
   "id": "a8405e4e",
   "metadata": {},
   "outputs": [
    {
     "data": {
      "text/plain": [
       "{'lemon': 30, 'adrak': 90, 'podaina': 78}"
      ]
     },
     "execution_count": 108,
     "metadata": {},
     "output_type": "execute_result"
    }
   ],
   "source": [
    "food1={\"lemon\":30,\"adrak\":90,\"podaina\":78}\n",
    "food1"
   ]
  },
  {
   "cell_type": "code",
   "execution_count": 111,
   "id": "c683c786",
   "metadata": {},
   "outputs": [],
   "source": [
    "#concat in dict\n",
    "food.update(food1)"
   ]
  },
  {
   "cell_type": "code",
   "execution_count": 110,
   "id": "64c42d12",
   "metadata": {},
   "outputs": [
    {
     "data": {
      "text/plain": [
       "{'aloo': 2,\n",
       " 'kacahalo': 3,\n",
       " 'bindi': 9,\n",
       " 'daniya': 8,\n",
       " 'kadu': 7,\n",
       " 'tore': 5,\n",
       " 'lemon': 30,\n",
       " 'adrak': 90,\n",
       " 'podaina': 78}"
      ]
     },
     "execution_count": 110,
     "metadata": {},
     "output_type": "execute_result"
    }
   ],
   "source": [
    "food"
   ]
  },
  {
   "cell_type": "markdown",
   "id": "4830c05b",
   "metadata": {},
   "source": [
    "# sets"
   ]
  },
  {
   "cell_type": "code",
   "execution_count": 118,
   "id": "8674f2bf",
   "metadata": {},
   "outputs": [
    {
     "data": {
      "text/plain": [
       "{1.0, 8, 9.0, 'ammar'}"
      ]
     },
     "execution_count": 118,
     "metadata": {},
     "output_type": "execute_result"
    }
   ],
   "source": [
    "s1={1.0, 9.0, 8, True, \"ammar\"}\n",
    "s1"
   ]
  },
  {
   "cell_type": "code",
   "execution_count": 120,
   "id": "55fffde2",
   "metadata": {},
   "outputs": [
    {
     "data": {
      "text/plain": [
       "{1.0, 8, 9.0, 'ammar', 'ammar1'}"
      ]
     },
     "execution_count": 120,
     "metadata": {},
     "output_type": "execute_result"
    }
   ],
   "source": [
    "s1.add(\"ammar1\")\n",
    "s1"
   ]
  },
  {
   "cell_type": "code",
   "execution_count": 121,
   "id": "f5937eb8",
   "metadata": {},
   "outputs": [],
   "source": [
    "s1.remove(\"ammar1\")"
   ]
  },
  {
   "cell_type": "code",
   "execution_count": 122,
   "id": "0ec4784e",
   "metadata": {},
   "outputs": [
    {
     "data": {
      "text/plain": [
       "{1.0, 8, 9.0, 'ammar'}"
      ]
     },
     "execution_count": 122,
     "metadata": {},
     "output_type": "execute_result"
    }
   ],
   "source": [
    "s1"
   ]
  },
  {
   "cell_type": "code",
   "execution_count": null,
   "id": "a1a90448",
   "metadata": {},
   "outputs": [],
   "source": []
  }
 ],
 "metadata": {
  "kernelspec": {
   "display_name": "Python 3 (ipykernel)",
   "language": "python",
   "name": "python3"
  },
  "language_info": {
   "codemirror_mode": {
    "name": "ipython",
    "version": 3
   },
   "file_extension": ".py",
   "mimetype": "text/x-python",
   "name": "python",
   "nbconvert_exporter": "python",
   "pygments_lexer": "ipython3",
   "version": "3.9.12"
  }
 },
 "nbformat": 4,
 "nbformat_minor": 5
}
